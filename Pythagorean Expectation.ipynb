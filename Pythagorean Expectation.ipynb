{
 "cells": [
  {
   "cell_type": "markdown",
   "metadata": {},
   "source": [
    "## Lab: Pythagorean Expectation for NBA\n",
    "\n",
    "### On You Own: Deriving the Exponent for NBA Pythagorean Expectation\n",
    "\n",
    "In this lab, you will perform the same analysis for the NBA reusing (almost exactly) the same code from the demo on Pythagorean Expectation for MLB but tweaked whereever necessary.  If you are unsure how to do something, just look to the corresponding part of the MLB section and emulate the code.  The data is loaded in the first cell.\n",
    "\n",
    "The columns (excluding some self-explanatory ones):\n",
    "+ `lg_id`: League ID\n",
    "+ `mp`: minutes played\n",
    "+ `pts`: points scored\n",
    "+ `opp_pts`: opponent points scored\n",
    "\n",
    "**IMPORTANT TIP**: Reuse the code from the demo on Pythagorean Expectation for MLB as much as possible.  You should be able to reuse basically all of it and rename a few things here and there.  It should all work to produce the results for this lab!  "
   ]
  },
  {
   "cell_type": "markdown",
   "metadata": {},
   "source": [
    "## Setup (Do Not Change)"
   ]
  },
  {
   "cell_type": "code",
   "execution_count": 93,
   "metadata": {},
   "outputs": [
    {
     "name": "stdout",
     "output_type": "stream",
     "text": [
      "Adding datascience helper tools to path...\n",
      "Setting up Matplotlib...\n",
      "Matplotlib imported as mpl\n",
      "Matplotlib.pyplot imported as plt\n"
     ]
    },
    {
     "data": {
      "text/html": [
       "<table border=\"1\" class=\"dataframe\">\n",
       "    <thead>\n",
       "        <tr>\n",
       "            <th>lg_id</th> <th>wins</th> <th>losses</th> <th>team_id</th> <th>g</th> <th>mp</th> <th>pts</th> <th>opp_pts</th> <th>year</th> <th>team</th>\n",
       "        </tr>\n",
       "    </thead>\n",
       "    <tbody>\n",
       "        <tr>\n",
       "            <td>NBA  </td> <td>35  </td> <td>47    </td> <td>ATL    </td> <td>82  </td> <td>19755</td> <td>8907</td> <td>9024   </td> <td>1973-74</td> <td>ATL </td>\n",
       "        </tr>\n",
       "        <tr>\n",
       "            <td>NBA  </td> <td>36  </td> <td>46    </td> <td>SEA    </td> <td>82  </td> <td>19755</td> <td>8774</td> <td>8983   </td> <td>1973-74</td> <td>OKC </td>\n",
       "        </tr>\n",
       "        <tr>\n",
       "            <td>NBA  </td> <td>47  </td> <td>35    </td> <td>CAP    </td> <td>82  </td> <td>19730</td> <td>8353</td> <td>8231   </td> <td>1973-74</td> <td>WAS </td>\n",
       "        </tr>\n",
       "        <tr>\n",
       "            <td>NBA  </td> <td>54  </td> <td>28    </td> <td>CHI    </td> <td>82  </td> <td>19780</td> <td>8368</td> <td>8097   </td> <td>1973-74</td> <td>CHI </td>\n",
       "        </tr>\n",
       "        <tr>\n",
       "            <td>NBA  </td> <td>49  </td> <td>33    </td> <td>NYK    </td> <td>82  </td> <td>19780</td> <td>8306</td> <td>8080   </td> <td>1973-74</td> <td>NYK </td>\n",
       "        </tr>\n",
       "    </tbody>\n",
       "</table>\n",
       "<p>... (1170 rows omitted)</p>"
      ],
      "text/plain": [
       "<IPython.core.display.HTML object>"
      ]
     },
     "metadata": {},
     "output_type": "display_data"
    }
   ],
   "source": [
    "%run ../../utils/notebook_setup.py\n",
    "\n",
    "import numpy as np\n",
    "\n",
    "from datascience import Table\n",
    "from datascience_stats import linear_fit\n",
    "import numpy as np\n",
    "\n",
    "usecols = ['wins','losses','g','pts','opp_pts','year','team_id']\n",
    "\n",
    "nba = Table.read_table(\n",
    "    \"nba_team_season_data.csv\",\n",
    "    usecols=usecols\n",
    ")\n",
    "\n",
    "nba.show(5)"
   ]
  },
  {
   "cell_type": "markdown",
   "metadata": {},
   "source": [
    "### 1. The first thing we need to do is compute the winning percentage \n",
    "$$\n",
    "    \\text{Win Pct} = W / G\n",
    "$$"
   ]
  },
  {
   "cell_type": "code",
   "execution_count": 94,
   "metadata": {},
   "outputs": [],
   "source": [
    "nba['Wpct'] = nba.column('wins')/nba.column('g')"
   ]
  },
  {
   "cell_type": "markdown",
   "metadata": {},
   "source": [
    "### 2. Then we need to compute Points per Game values\n",
    "\\begin{align*}\n",
    "    \\text{Points For per Game} & = \\text{Points For}\\ /\\ \\text{Game} \\\\\n",
    "    \\text{Points Against per Game} & = \\text{Points Against}\\ /\\ \\text{Game} \\\\\n",
    "    \\text{Net Points per Game} & = \\text{Points For per Game} - \\text{Points Against per Game}\n",
    "\\end{align*}\n",
    "\n",
    "Call the columns `ppg`, `opp_ppg`, and `net_ppg`.\n",
    "\n",
    "*Note: Feel free to perform the analysis using Ratings, which provide points per 100 possessions, provided in the NBA dataset (you will need to change the data loading to include those columns).  The results will be identical.\n",
    "\n",
    "_Question_\n",
    "\n",
    "We're computing a per game value.  Should we use 82 or should we use something else?  What happened in the NBA recently (~2011) that might necessitate not using 82?"
   ]
  },
  {
   "cell_type": "code",
   "execution_count": 95,
   "metadata": {},
   "outputs": [
    {
     "data": {
      "text/html": [
       "<table border=\"1\" class=\"dataframe\">\n",
       "    <thead>\n",
       "        <tr>\n",
       "            <th>lg_id</th> <th>wins</th> <th>losses</th> <th>team_id</th> <th>g</th> <th>mp</th> <th>pts</th> <th>opp_pts</th> <th>year</th> <th>team</th> <th>Wpct</th> <th>ppg</th> <th>opp_ppg</th> <th>net_ppg</th>\n",
       "        </tr>\n",
       "    </thead>\n",
       "    <tbody>\n",
       "        <tr>\n",
       "            <td>NBA  </td> <td>35  </td> <td>47    </td> <td>ATL    </td> <td>82  </td> <td>19755</td> <td>8907</td> <td>9024   </td> <td>1973-74</td> <td>ATL </td> <td>0.426829</td> <td>108.622</td> <td>110.049</td> <td>-1.42683 </td>\n",
       "        </tr>\n",
       "        <tr>\n",
       "            <td>NBA  </td> <td>36  </td> <td>46    </td> <td>SEA    </td> <td>82  </td> <td>19755</td> <td>8774</td> <td>8983   </td> <td>1973-74</td> <td>OKC </td> <td>0.439024</td> <td>107    </td> <td>109.549</td> <td>-2.54878 </td>\n",
       "        </tr>\n",
       "        <tr>\n",
       "            <td>NBA  </td> <td>47  </td> <td>35    </td> <td>CAP    </td> <td>82  </td> <td>19730</td> <td>8353</td> <td>8231   </td> <td>1973-74</td> <td>WAS </td> <td>0.573171</td> <td>101.866</td> <td>100.378</td> <td>1.4878   </td>\n",
       "        </tr>\n",
       "        <tr>\n",
       "            <td>NBA  </td> <td>54  </td> <td>28    </td> <td>CHI    </td> <td>82  </td> <td>19780</td> <td>8368</td> <td>8097   </td> <td>1973-74</td> <td>CHI </td> <td>0.658537</td> <td>102.049</td> <td>98.7439</td> <td>3.30488  </td>\n",
       "        </tr>\n",
       "        <tr>\n",
       "            <td>NBA  </td> <td>49  </td> <td>33    </td> <td>NYK    </td> <td>82  </td> <td>19780</td> <td>8306</td> <td>8080   </td> <td>1973-74</td> <td>NYK </td> <td>0.597561</td> <td>101.293</td> <td>98.5366</td> <td>2.7561   </td>\n",
       "        </tr>\n",
       "        <tr>\n",
       "            <td>NBA  </td> <td>29  </td> <td>53    </td> <td>CLE    </td> <td>82  </td> <td>19755</td> <td>8221</td> <td>8576   </td> <td>1973-74</td> <td>CLE </td> <td>0.353659</td> <td>100.256</td> <td>104.585</td> <td>-4.32927 </td>\n",
       "        </tr>\n",
       "        <tr>\n",
       "            <td>NBA  </td> <td>56  </td> <td>26    </td> <td>BOS    </td> <td>82  </td> <td>19780</td> <td>8937</td> <td>8616   </td> <td>1973-74</td> <td>BOS </td> <td>0.682927</td> <td>108.988</td> <td>105.073</td> <td>3.91463  </td>\n",
       "        </tr>\n",
       "        <tr>\n",
       "            <td>NBA  </td> <td>30  </td> <td>52    </td> <td>PHO    </td> <td>82  </td> <td>19755</td> <td>8847</td> <td>9139   </td> <td>1973-74</td> <td>PHO </td> <td>0.365854</td> <td>107.89 </td> <td>111.451</td> <td>-3.56098 </td>\n",
       "        </tr>\n",
       "        <tr>\n",
       "            <td>ABA  </td> <td>37  </td> <td>47    </td> <td>DNR    </td> <td>84  </td> <td>20285</td> <td>8989</td> <td>9032   </td> <td>1973-74</td> <td>DEN </td> <td>0.440476</td> <td>107.012</td> <td>107.524</td> <td>-0.511905</td>\n",
       "        </tr>\n",
       "        <tr>\n",
       "            <td>ABA  </td> <td>55  </td> <td>29    </td> <td>NYA    </td> <td>84  </td> <td>20285</td> <td>9188</td> <td>8739   </td> <td>1973-74</td> <td>NJN </td> <td>0.654762</td> <td>109.381</td> <td>104.036</td> <td>5.34524  </td>\n",
       "        </tr>\n",
       "    </tbody>\n",
       "</table>\n",
       "<p>... (1165 rows omitted)</p>"
      ],
      "text/plain": [
       "lg_id | wins | losses | team_id | g    | mp    | pts  | opp_pts | year    | team | Wpct     | ppg     | opp_ppg | net_ppg\n",
       "NBA   | 35   | 47     | ATL     | 82   | 19755 | 8907 | 9024    | 1973-74 | ATL  | 0.426829 | 108.622 | 110.049 | -1.42683\n",
       "NBA   | 36   | 46     | SEA     | 82   | 19755 | 8774 | 8983    | 1973-74 | OKC  | 0.439024 | 107     | 109.549 | -2.54878\n",
       "NBA   | 47   | 35     | CAP     | 82   | 19730 | 8353 | 8231    | 1973-74 | WAS  | 0.573171 | 101.866 | 100.378 | 1.4878\n",
       "NBA   | 54   | 28     | CHI     | 82   | 19780 | 8368 | 8097    | 1973-74 | CHI  | 0.658537 | 102.049 | 98.7439 | 3.30488\n",
       "NBA   | 49   | 33     | NYK     | 82   | 19780 | 8306 | 8080    | 1973-74 | NYK  | 0.597561 | 101.293 | 98.5366 | 2.7561\n",
       "NBA   | 29   | 53     | CLE     | 82   | 19755 | 8221 | 8576    | 1973-74 | CLE  | 0.353659 | 100.256 | 104.585 | -4.32927\n",
       "NBA   | 56   | 26     | BOS     | 82   | 19780 | 8937 | 8616    | 1973-74 | BOS  | 0.682927 | 108.988 | 105.073 | 3.91463\n",
       "NBA   | 30   | 52     | PHO     | 82   | 19755 | 8847 | 9139    | 1973-74 | PHO  | 0.365854 | 107.89  | 111.451 | -3.56098\n",
       "ABA   | 37   | 47     | DNR     | 84   | 20285 | 8989 | 9032    | 1973-74 | DEN  | 0.440476 | 107.012 | 107.524 | -0.511905\n",
       "ABA   | 55   | 29     | NYA     | 84   | 20285 | 9188 | 8739    | 1973-74 | NJN  | 0.654762 | 109.381 | 104.036 | 5.34524\n",
       "... (1165 rows omitted)"
      ]
     },
     "execution_count": 95,
     "metadata": {},
     "output_type": "execute_result"
    }
   ],
   "source": [
    "nba['ppg'] = nba.column('pts')/nba.column('g')\n",
    "nba['opp_ppg'] = nba.column('opp_pts')/nba.column('g')\n",
    "nba['net_ppg'] = nba.column('ppg') - nba.column('opp_ppg')\n",
    "nba"
   ]
  },
  {
   "cell_type": "markdown",
   "metadata": {},
   "source": [
    "Show the top 10 team seasons by Net Points per Game.  Only show the following columns: `team_id, wins, losses, ppg, opp_ppg, net_ppg`"
   ]
  },
  {
   "cell_type": "code",
   "execution_count": 96,
   "metadata": {},
   "outputs": [
    {
     "data": {
      "text/html": [
       "<table border=\"1\" class=\"dataframe\">\n",
       "    <thead>\n",
       "        <tr>\n",
       "            <th>team_id</th> <th>wins</th> <th>losses</th> <th>ppg</th> <th>opp_ppg</th> <th>net_ppg</th>\n",
       "        </tr>\n",
       "    </thead>\n",
       "    <tbody>\n",
       "        <tr>\n",
       "            <td>CHI    </td> <td>72  </td> <td>10    </td> <td>105.183</td> <td>92.939 </td> <td>12.2439</td>\n",
       "        </tr>\n",
       "        <tr>\n",
       "            <td>GSW    </td> <td>67  </td> <td>15    </td> <td>115.89 </td> <td>104.256</td> <td>11.6341</td>\n",
       "        </tr>\n",
       "        <tr>\n",
       "            <td>CHI    </td> <td>69  </td> <td>13    </td> <td>103.146</td> <td>92.3415</td> <td>10.8049</td>\n",
       "        </tr>\n",
       "        <tr>\n",
       "            <td>GSW    </td> <td>73  </td> <td>9     </td> <td>114.89 </td> <td>104.134</td> <td>10.7561</td>\n",
       "        </tr>\n",
       "        <tr>\n",
       "            <td>SAS    </td> <td>67  </td> <td>15    </td> <td>103.537</td> <td>92.9024</td> <td>10.6341</td>\n",
       "        </tr>\n",
       "        <tr>\n",
       "            <td>CHI    </td> <td>67  </td> <td>15    </td> <td>109.89 </td> <td>99.4512</td> <td>10.439 </td>\n",
       "        </tr>\n",
       "        <tr>\n",
       "            <td>BOS    </td> <td>66  </td> <td>16    </td> <td>100.549</td> <td>90.2927</td> <td>10.2561</td>\n",
       "        </tr>\n",
       "        <tr>\n",
       "            <td>GSW    </td> <td>67  </td> <td>15    </td> <td>109.951</td> <td>99.8537</td> <td>10.0976</td>\n",
       "        </tr>\n",
       "        <tr>\n",
       "            <td>BOS    </td> <td>67  </td> <td>15    </td> <td>114.134</td> <td>104.72 </td> <td>9.41463</td>\n",
       "        </tr>\n",
       "        <tr>\n",
       "            <td>LAL    </td> <td>65  </td> <td>17    </td> <td>117.756</td> <td>108.451</td> <td>9.30488</td>\n",
       "        </tr>\n",
       "    </tbody>\n",
       "</table>\n",
       "<p>... (1165 rows omitted)</p>"
      ],
      "text/plain": [
       "<IPython.core.display.HTML object>"
      ]
     },
     "metadata": {},
     "output_type": "display_data"
    }
   ],
   "source": [
    "nba.sort('net_ppg', descending=True).select('team_id', 'wins', 'losses', 'ppg', 'opp_ppg', 'net_ppg').show(10)"
   ]
  },
  {
   "cell_type": "markdown",
   "metadata": {},
   "source": [
    "### 3. Compute the Linear Model\n",
    "$$\n",
    "    \\text{Linear Win Pct} = \\alpha  + \\beta \\cdot \\text{Net Points per Game}\n",
    "$$\n",
    "where $\\alpha$ gives $\\text{Average Win Pct}$ and $\\beta$ gives $\\text{Win Pct per Net Points per Game}$.\n",
    "\n",
    "Plot the linear model results as we did with MLB.\n",
    "\n",
    "**Remember: Reuse the code from the MLB demo!**\n",
    "\n",
    "\n",
    "_Question_\n",
    "\n",
    "For what values of Net Points per Game does $\\text{Linear Win Pct} < 0$ and $\\text{Linear Win Pct} > 1$?  How much of an issue is that here compared to when we looked at MLB data?\n",
    "\n",
    "_Answer_\n",
    "\n",
    "For Net Points Per Game (net_ppg) values of less than 0, the Linear Win Percent (LinWPCT) is < 0; for net_ppg values of more than 0, the LinWPCT is > 1. There isn't muuch of an issue here because with the MLB data we cannot deduce an association between Run Differential (RB) and LinWPCT because LinWPCT values are negative and positive when RD is negative or positive. "
   ]
  },
  {
   "cell_type": "code",
   "execution_count": 97,
   "metadata": {},
   "outputs": [
    {
     "name": "stdout",
     "output_type": "stream",
     "text": [
      "Computed Linear Model:\n",
      "====================\n",
      "LinWpct = 0.500 + 0.032 * net_ppg\n"
     ]
    }
   ],
   "source": [
    "params, predictions, errors = linear_fit(nba['net_ppg'], nba['Wpct'])\n",
    "nba['LinWpct'] = predictions\n",
    "\n",
    "alpha, beta = params\n",
    "print(\"Computed Linear Model:\")\n",
    "print(\"====================\")\n",
    "s = \"LinWpct = {alpha:.3f} + {beta:.3f} * net_ppg\".format(alpha=alpha, beta=beta)\n",
    "print(s)"
   ]
  },
  {
   "cell_type": "code",
   "execution_count": 98,
   "metadata": {},
   "outputs": [
    {
     "data": {
      "image/png": "[encoded data removed]",
      "text/plain": [
       "<Figure size 360x360 with 1 Axes>"
      ]
     },
     "metadata": {},
     "output_type": "display_data"
    }
   ],
   "source": [
    "nba.scatter(\"net_ppg\", select='Wpct', fit_line=True)"
   ]
  },
  {
   "cell_type": "markdown",
   "metadata": {},
   "source": [
    "The estimated value of $\\beta$ should be about $0.03$.\n",
    "\n",
    "Compute the \"Net PPG per Win\" from the linear model.\n",
    "\n",
    "You should get a Net PPG per win of about 0.38."
   ]
  },
  {
   "cell_type": "code",
   "execution_count": 99,
   "metadata": {},
   "outputs": [
    {
     "data": {
      "text/html": [
       "<table border=\"1\" class=\"dataframe\">\n",
       "    <thead>\n",
       "        <tr>\n",
       "            <th>lg_id</th> <th>wins</th> <th>losses</th> <th>team_id</th> <th>g</th> <th>mp</th> <th>pts</th> <th>opp_pts</th> <th>year</th> <th>team</th> <th>Wpct</th> <th>ppg</th> <th>opp_ppg</th> <th>net_ppg</th> <th>LinWpct</th>\n",
       "        </tr>\n",
       "    </thead>\n",
       "    <tbody>\n",
       "        <tr>\n",
       "            <td>NBA  </td> <td>35  </td> <td>47    </td> <td>ATL    </td> <td>82  </td> <td>19755</td> <td>8907</td> <td>9024   </td> <td>1973-74</td> <td>ATL </td> <td>0.426829</td> <td>108.622</td> <td>110.049</td> <td>-1.42683 </td> <td>0.453597</td>\n",
       "        </tr>\n",
       "        <tr>\n",
       "            <td>NBA  </td> <td>36  </td> <td>46    </td> <td>SEA    </td> <td>82  </td> <td>19755</td> <td>8774</td> <td>8983   </td> <td>1973-74</td> <td>OKC </td> <td>0.439024</td> <td>107    </td> <td>109.549</td> <td>-2.54878 </td> <td>0.417156</td>\n",
       "        </tr>\n",
       "        <tr>\n",
       "            <td>NBA  </td> <td>47  </td> <td>35    </td> <td>CAP    </td> <td>82  </td> <td>19730</td> <td>8353</td> <td>8231   </td> <td>1973-74</td> <td>WAS </td> <td>0.573171</td> <td>101.866</td> <td>100.378</td> <td>1.4878   </td> <td>0.548264</td>\n",
       "        </tr>\n",
       "        <tr>\n",
       "            <td>NBA  </td> <td>54  </td> <td>28    </td> <td>CHI    </td> <td>82  </td> <td>19780</td> <td>8368</td> <td>8097   </td> <td>1973-74</td> <td>CHI </td> <td>0.658537</td> <td>102.049</td> <td>98.7439</td> <td>3.30488  </td> <td>0.607282</td>\n",
       "        </tr>\n",
       "        <tr>\n",
       "            <td>NBA  </td> <td>49  </td> <td>33    </td> <td>NYK    </td> <td>82  </td> <td>19780</td> <td>8306</td> <td>8080   </td> <td>1973-74</td> <td>NYK </td> <td>0.597561</td> <td>101.293</td> <td>98.5366</td> <td>2.7561   </td> <td>0.589457</td>\n",
       "        </tr>\n",
       "        <tr>\n",
       "            <td>NBA  </td> <td>29  </td> <td>53    </td> <td>CLE    </td> <td>82  </td> <td>19755</td> <td>8221</td> <td>8576   </td> <td>1973-74</td> <td>CLE </td> <td>0.353659</td> <td>100.256</td> <td>104.585</td> <td>-4.32927 </td> <td>0.359327</td>\n",
       "        </tr>\n",
       "        <tr>\n",
       "            <td>NBA  </td> <td>56  </td> <td>26    </td> <td>BOS    </td> <td>82  </td> <td>19780</td> <td>8937</td> <td>8616   </td> <td>1973-74</td> <td>BOS </td> <td>0.682927</td> <td>108.988</td> <td>105.073</td> <td>3.91463  </td> <td>0.627086</td>\n",
       "        </tr>\n",
       "        <tr>\n",
       "            <td>NBA  </td> <td>30  </td> <td>52    </td> <td>PHO    </td> <td>82  </td> <td>19755</td> <td>8847</td> <td>9139   </td> <td>1973-74</td> <td>PHO </td> <td>0.365854</td> <td>107.89 </td> <td>111.451</td> <td>-3.56098 </td> <td>0.384281</td>\n",
       "        </tr>\n",
       "        <tr>\n",
       "            <td>ABA  </td> <td>37  </td> <td>47    </td> <td>DNR    </td> <td>84  </td> <td>20285</td> <td>8989</td> <td>9032   </td> <td>1973-74</td> <td>DEN </td> <td>0.440476</td> <td>107.012</td> <td>107.524</td> <td>-0.511905</td> <td>0.483314</td>\n",
       "        </tr>\n",
       "        <tr>\n",
       "            <td>ABA  </td> <td>55  </td> <td>29    </td> <td>NYA    </td> <td>84  </td> <td>20285</td> <td>9188</td> <td>8739   </td> <td>1973-74</td> <td>NJN </td> <td>0.654762</td> <td>109.381</td> <td>104.036</td> <td>5.34524  </td> <td>0.673552</td>\n",
       "        </tr>\n",
       "    </tbody>\n",
       "</table>\n",
       "<p>... (1165 rows omitted)</p>"
      ],
      "text/plain": [
       "lg_id | wins | losses | team_id | g    | mp    | pts  | opp_pts | year    | team | Wpct     | ppg     | opp_ppg | net_ppg   | LinWpct\n",
       "NBA   | 35   | 47     | ATL     | 82   | 19755 | 8907 | 9024    | 1973-74 | ATL  | 0.426829 | 108.622 | 110.049 | -1.42683  | 0.453597\n",
       "NBA   | 36   | 46     | SEA     | 82   | 19755 | 8774 | 8983    | 1973-74 | OKC  | 0.439024 | 107     | 109.549 | -2.54878  | 0.417156\n",
       "NBA   | 47   | 35     | CAP     | 82   | 19730 | 8353 | 8231    | 1973-74 | WAS  | 0.573171 | 101.866 | 100.378 | 1.4878    | 0.548264\n",
       "NBA   | 54   | 28     | CHI     | 82   | 19780 | 8368 | 8097    | 1973-74 | CHI  | 0.658537 | 102.049 | 98.7439 | 3.30488   | 0.607282\n",
       "NBA   | 49   | 33     | NYK     | 82   | 19780 | 8306 | 8080    | 1973-74 | NYK  | 0.597561 | 101.293 | 98.5366 | 2.7561    | 0.589457\n",
       "NBA   | 29   | 53     | CLE     | 82   | 19755 | 8221 | 8576    | 1973-74 | CLE  | 0.353659 | 100.256 | 104.585 | -4.32927  | 0.359327\n",
       "NBA   | 56   | 26     | BOS     | 82   | 19780 | 8937 | 8616    | 1973-74 | BOS  | 0.682927 | 108.988 | 105.073 | 3.91463   | 0.627086\n",
       "NBA   | 30   | 52     | PHO     | 82   | 19755 | 8847 | 9139    | 1973-74 | PHO  | 0.365854 | 107.89  | 111.451 | -3.56098  | 0.384281\n",
       "ABA   | 37   | 47     | DNR     | 84   | 20285 | 8989 | 9032    | 1973-74 | DEN  | 0.440476 | 107.012 | 107.524 | -0.511905 | 0.483314\n",
       "ABA   | 55   | 29     | NYA     | 84   | 20285 | 9188 | 8739    | 1973-74 | NJN  | 0.654762 | 109.381 | 104.036 | 5.34524   | 0.673552\n",
       "... (1165 rows omitted)"
      ]
     },
     "execution_count": 99,
     "metadata": {},
     "output_type": "execute_result"
    }
   ],
   "source": [
    "nba"
   ]
  },
  {
   "cell_type": "code",
   "execution_count": 100,
   "metadata": {},
   "outputs": [
    {
     "data": {
      "text/plain": [
       "0.0323308704211836"
      ]
     },
     "execution_count": 100,
     "metadata": {},
     "output_type": "execute_result"
    }
   ],
   "source": [
    "(np.mean(nba['LinWpct']) - 0.5) / 0.032"
   ]
  },
  {
   "cell_type": "markdown",
   "metadata": {},
   "source": [
    "### 4. Compute the following values:\n",
    "\\begin{align*}\n",
    "    \\text{Points Ratio} & = \\text{PPG}\\ /\\ \\text{Opp PPG} \\\\\n",
    "    \\text{Log Points Ratio} & = \\log \\text{Points Ratio} \\\\\n",
    "    \\text{Log Odds} & = \\log \\text{Wins}\\ /\\ \\text{Losses}\n",
    "\\end{align*}"
   ]
  },
  {
   "cell_type": "code",
   "execution_count": 101,
   "metadata": {},
   "outputs": [
    {
     "data": {
      "text/html": [
       "<table border=\"1\" class=\"dataframe\">\n",
       "    <thead>\n",
       "        <tr>\n",
       "            <th>lg_id</th> <th>wins</th> <th>losses</th> <th>team_id</th> <th>g</th> <th>mp</th> <th>pts</th> <th>opp_pts</th> <th>year</th> <th>team</th> <th>Wpct</th> <th>ppg</th> <th>opp_ppg</th> <th>net_ppg</th> <th>LinWpct</th> <th>PR</th> <th>log_PR</th> <th>log_odds</th>\n",
       "        </tr>\n",
       "    </thead>\n",
       "    <tbody>\n",
       "        <tr>\n",
       "            <td>NBA  </td> <td>35  </td> <td>47    </td> <td>ATL    </td> <td>82  </td> <td>19755</td> <td>8907</td> <td>9024   </td> <td>1973-74</td> <td>ATL </td> <td>0.426829</td> <td>108.622</td> <td>110.049</td> <td>-1.42683 </td> <td>0.453597</td> <td>0.987035</td> <td>-0.0130502 </td> <td>-0.2948  </td>\n",
       "        </tr>\n",
       "        <tr>\n",
       "            <td>NBA  </td> <td>36  </td> <td>46    </td> <td>SEA    </td> <td>82  </td> <td>19755</td> <td>8774</td> <td>8983   </td> <td>1973-74</td> <td>OKC </td> <td>0.439024</td> <td>107    </td> <td>109.549</td> <td>-2.54878 </td> <td>0.417156</td> <td>0.976734</td> <td>-0.0235411 </td> <td>-0.245122</td>\n",
       "        </tr>\n",
       "        <tr>\n",
       "            <td>NBA  </td> <td>47  </td> <td>35    </td> <td>CAP    </td> <td>82  </td> <td>19730</td> <td>8353</td> <td>8231   </td> <td>1973-74</td> <td>WAS </td> <td>0.573171</td> <td>101.866</td> <td>100.378</td> <td>1.4878   </td> <td>0.548264</td> <td>1.01482 </td> <td>0.0147132  </td> <td>0.2948   </td>\n",
       "        </tr>\n",
       "        <tr>\n",
       "            <td>NBA  </td> <td>54  </td> <td>28    </td> <td>CHI    </td> <td>82  </td> <td>19780</td> <td>8368</td> <td>8097   </td> <td>1973-74</td> <td>CHI </td> <td>0.658537</td> <td>102.049</td> <td>98.7439</td> <td>3.30488  </td> <td>0.607282</td> <td>1.03347 </td> <td>0.0329213  </td> <td>0.65678  </td>\n",
       "        </tr>\n",
       "        <tr>\n",
       "            <td>NBA  </td> <td>49  </td> <td>33    </td> <td>NYK    </td> <td>82  </td> <td>19780</td> <td>8306</td> <td>8080   </td> <td>1973-74</td> <td>NYK </td> <td>0.597561</td> <td>101.293</td> <td>98.5366</td> <td>2.7561   </td> <td>0.589457</td> <td>1.02797 </td> <td>0.0275863  </td> <td>0.395313 </td>\n",
       "        </tr>\n",
       "        <tr>\n",
       "            <td>NBA  </td> <td>29  </td> <td>53    </td> <td>CLE    </td> <td>82  </td> <td>19755</td> <td>8221</td> <td>8576   </td> <td>1973-74</td> <td>CLE </td> <td>0.353659</td> <td>100.256</td> <td>104.585</td> <td>-4.32927 </td> <td>0.359327</td> <td>0.958605</td> <td>-0.0422757 </td> <td>-0.602996</td>\n",
       "        </tr>\n",
       "        <tr>\n",
       "            <td>NBA  </td> <td>56  </td> <td>26    </td> <td>BOS    </td> <td>82  </td> <td>19780</td> <td>8937</td> <td>8616   </td> <td>1973-74</td> <td>BOS </td> <td>0.682927</td> <td>108.988</td> <td>105.073</td> <td>3.91463  </td> <td>0.627086</td> <td>1.03726 </td> <td>0.036579   </td> <td>0.767255 </td>\n",
       "        </tr>\n",
       "        <tr>\n",
       "            <td>NBA  </td> <td>30  </td> <td>52    </td> <td>PHO    </td> <td>82  </td> <td>19755</td> <td>8847</td> <td>9139   </td> <td>1973-74</td> <td>PHO </td> <td>0.365854</td> <td>107.89 </td> <td>111.451</td> <td>-3.56098 </td> <td>0.384281</td> <td>0.968049</td> <td>-0.0324726 </td> <td>-0.550046</td>\n",
       "        </tr>\n",
       "        <tr>\n",
       "            <td>ABA  </td> <td>37  </td> <td>47    </td> <td>DNR    </td> <td>84  </td> <td>20285</td> <td>8989</td> <td>9032   </td> <td>1973-74</td> <td>DEN </td> <td>0.440476</td> <td>107.012</td> <td>107.524</td> <td>-0.511905</td> <td>0.483314</td> <td>0.995239</td> <td>-0.00477222</td> <td>-0.23923 </td>\n",
       "        </tr>\n",
       "        <tr>\n",
       "            <td>ABA  </td> <td>55  </td> <td>29    </td> <td>NYA    </td> <td>84  </td> <td>20285</td> <td>9188</td> <td>8739   </td> <td>1973-74</td> <td>NJN </td> <td>0.654762</td> <td>109.381</td> <td>104.036</td> <td>5.34524  </td> <td>0.673552</td> <td>1.05138 </td> <td>0.0501025  </td> <td>0.640037 </td>\n",
       "        </tr>\n",
       "    </tbody>\n",
       "</table>\n",
       "<p>... (1165 rows omitted)</p>"
      ],
      "text/plain": [
       "lg_id | wins | losses | team_id | g    | mp    | pts  | opp_pts | year    | team | Wpct     | ppg     | opp_ppg | net_ppg   | LinWpct  | PR       | log_PR      | log_odds\n",
       "NBA   | 35   | 47     | ATL     | 82   | 19755 | 8907 | 9024    | 1973-74 | ATL  | 0.426829 | 108.622 | 110.049 | -1.42683  | 0.453597 | 0.987035 | -0.0130502  | -0.2948\n",
       "NBA   | 36   | 46     | SEA     | 82   | 19755 | 8774 | 8983    | 1973-74 | OKC  | 0.439024 | 107     | 109.549 | -2.54878  | 0.417156 | 0.976734 | -0.0235411  | -0.245122\n",
       "NBA   | 47   | 35     | CAP     | 82   | 19730 | 8353 | 8231    | 1973-74 | WAS  | 0.573171 | 101.866 | 100.378 | 1.4878    | 0.548264 | 1.01482  | 0.0147132   | 0.2948\n",
       "NBA   | 54   | 28     | CHI     | 82   | 19780 | 8368 | 8097    | 1973-74 | CHI  | 0.658537 | 102.049 | 98.7439 | 3.30488   | 0.607282 | 1.03347  | 0.0329213   | 0.65678\n",
       "NBA   | 49   | 33     | NYK     | 82   | 19780 | 8306 | 8080    | 1973-74 | NYK  | 0.597561 | 101.293 | 98.5366 | 2.7561    | 0.589457 | 1.02797  | 0.0275863   | 0.395313\n",
       "NBA   | 29   | 53     | CLE     | 82   | 19755 | 8221 | 8576    | 1973-74 | CLE  | 0.353659 | 100.256 | 104.585 | -4.32927  | 0.359327 | 0.958605 | -0.0422757  | -0.602996\n",
       "NBA   | 56   | 26     | BOS     | 82   | 19780 | 8937 | 8616    | 1973-74 | BOS  | 0.682927 | 108.988 | 105.073 | 3.91463   | 0.627086 | 1.03726  | 0.036579    | 0.767255\n",
       "NBA   | 30   | 52     | PHO     | 82   | 19755 | 8847 | 9139    | 1973-74 | PHO  | 0.365854 | 107.89  | 111.451 | -3.56098  | 0.384281 | 0.968049 | -0.0324726  | -0.550046\n",
       "ABA   | 37   | 47     | DNR     | 84   | 20285 | 8989 | 9032    | 1973-74 | DEN  | 0.440476 | 107.012 | 107.524 | -0.511905 | 0.483314 | 0.995239 | -0.00477222 | -0.23923\n",
       "ABA   | 55   | 29     | NYA     | 84   | 20285 | 9188 | 8739    | 1973-74 | NJN  | 0.654762 | 109.381 | 104.036 | 5.34524   | 0.673552 | 1.05138  | 0.0501025   | 0.640037\n",
       "... (1165 rows omitted)"
      ]
     },
     "execution_count": 101,
     "metadata": {},
     "output_type": "execute_result"
    }
   ],
   "source": [
    "nba['PR'] = nba['pts'] / nba['opp_pts']\n",
    "nba['log_PR'] = np.log(nba['PR'])\n",
    "nba['log_odds'] = np.log(nba['wins']/nba['losses'])\n",
    "nba"
   ]
  },
  {
   "cell_type": "markdown",
   "metadata": {},
   "source": [
    "### 5. Compute a Pythagorean exponent for the NBA\n",
    "\n",
    "Plot the results of the model for the Pythagorean exponent.  \n",
    "\n",
    "**Again, reuse the MLB code with appropriate changes!**\n",
    "\n",
    "You should get a large value (around 14).  We could perform this analysis on all sorts of sports. \n",
    "\n",
    "_Question_\n",
    "\n",
    "What does this large value for the exponent mean?  To answer this question, start by answering this series of questions:\n",
    "+ Suppose some random sport had an exponent of $K=1\\text{mil}$.  If a team is able to score just a bit more than its opponents so $\\text{Points Ratio} > 1$ by a small amount.  What is $\\text{Points Ratio}^K$ in this case?  What is the team's expected winning percentage?\n",
    "+ Suppose as sport had an $K=0.00001$.  What is $\\text{Points Ratio}^K$ in this case?  What is a team's expected winning percentage if it is able to score just a bit more than its opponents?  What about if it's outscored by a little bit?\n",
    "+ Do larger or smaller values of K lead to a sport which features a lot of luck/chance in its outcomes?\n",
    "\n",
    "_Answer_\n",
    "\n",
    "A large value for the exponent means that a lot of points would be needed to sway the winning percentage in favor, in specific, K amount of points. In other words, K amount of points would be needed to increase the number of wins. "
   ]
  },
  {
   "cell_type": "code",
   "execution_count": 102,
   "metadata": {},
   "outputs": [
    {
     "name": "stdout",
     "output_type": "stream",
     "text": [
      "Computed Linear Fit:\n",
      "====================\n",
      "xlog_odds = 14.35 * log_PR\n"
     ]
    }
   ],
   "source": [
    "params, predictions, errors = linear_fit(\n",
    "    nba['log_PR'], nba['log_odds'], constant=False)\n",
    "nba['xlog_odds'] = predictions\n",
    "\n",
    "nba['pythag_log_odds'] = nba['log_PR'] * 2\n",
    "K = params.item()\n",
    "\n",
    "print(\"Computed Linear Fit:\")\n",
    "print(\"====================\")\n",
    "s = \"xlog_odds = {K:.2f} * log_PR\".format(K=K)\n",
    "print(s)"
   ]
  },
  {
   "cell_type": "code",
   "execution_count": 103,
   "metadata": {},
   "outputs": [
    {
     "data": {
      "image/png": "[encoded data removed]",
      "text/plain": [
       "<Figure size 360x360 with 1 Axes>"
      ]
     },
     "metadata": {},
     "output_type": "display_data"
    }
   ],
   "source": [
    "nba.scatter('log_PR', select=['log_odds', 'xlog_odds', 'pythag_log_odds'])"
   ]
  },
  {
   "cell_type": "markdown",
   "metadata": {},
   "source": [
    "### 6. Using the computed exponent*, compute the Pythagorean Expectation\n",
    "*To skip the previous cell if it isn't working immediately: use 14. \n",
    "\n",
    "_Question_\n",
    "\n",
    "For team with really poor net scoring performance, how does the Pythagorean formula compare to the linear formula?  Which seems to perform better in this case?\n",
    "\n",
    "_Answer_\n",
    "\n",
    "For teams with really poor (or really good) net scoring performance, the Pythagorean formula is a bad predictor because the residuals for the actual win percents and the calculated ones are high as compared to the residuals for the win percents and the linear calculations. "
   ]
  },
  {
   "cell_type": "code",
   "execution_count": 104,
   "metadata": {},
   "outputs": [
    {
     "data": {
      "text/html": [
       "<table border=\"1\" class=\"dataframe\">\n",
       "    <thead>\n",
       "        <tr>\n",
       "            <th>lg_id</th> <th>wins</th> <th>losses</th> <th>team_id</th> <th>g</th> <th>mp</th> <th>pts</th> <th>opp_pts</th> <th>year</th> <th>team</th> <th>Wpct</th> <th>ppg</th> <th>opp_ppg</th> <th>net_ppg</th> <th>LinWpct</th> <th>PR</th> <th>log_PR</th> <th>log_odds</th> <th>xlog_odds</th> <th>pythag_log_odds</th> <th>pythag_Wpct</th>\n",
       "        </tr>\n",
       "    </thead>\n",
       "    <tbody>\n",
       "        <tr>\n",
       "            <td>NBA  </td> <td>11  </td> <td>71    </td> <td>DAL    </td> <td>82  </td> <td>19730</td> <td>8141</td> <td>9387   </td> <td>1992-93</td> <td>DAL </td> <td>0.134146</td> <td>99.2805</td> <td>114.476</td> <td>-15.1951</td> <td>0.0064069</td> <td>0.867263</td> <td>-0.142413 </td> <td>-1.86478</td> <td>-2.0437  </td> <td>-0.284825      </td> <td>0.119858   </td>\n",
       "        </tr>\n",
       "        <tr>\n",
       "            <td>NBA  </td> <td>7   </td> <td>59    </td> <td>CHA    </td> <td>66  </td> <td>15890</td> <td>5739</td> <td>6657   </td> <td>2011-12</td> <td>CHA </td> <td>0.106061</td> <td>86.9545</td> <td>100.864</td> <td>-13.9091</td> <td>0.0481768</td> <td>0.8621  </td> <td>-0.148384 </td> <td>-2.13163</td> <td>-2.1294  </td> <td>-0.296768      </td> <td>0.111315   </td>\n",
       "        </tr>\n",
       "        <tr>\n",
       "            <td>NBA  </td> <td>11  </td> <td>71    </td> <td>DEN    </td> <td>82  </td> <td>19730</td> <td>7300</td> <td>8266   </td> <td>1997-98</td> <td>DEN </td> <td>0.134146</td> <td>89.0244</td> <td>100.805</td> <td>-11.7805</td> <td>0.117313 </td> <td>0.883136</td> <td>-0.124276 </td> <td>-1.86478</td> <td>-1.78344 </td> <td>-0.248553      </td> <td>0.14933    </td>\n",
       "        </tr>\n",
       "        <tr>\n",
       "            <td>NBA  </td> <td>14  </td> <td>68    </td> <td>HOU    </td> <td>82  </td> <td>19730</td> <td>8145</td> <td>9096   </td> <td>1982-83</td> <td>HOU </td> <td>0.170732</td> <td>99.3293</td> <td>110.927</td> <td>-11.5976</td> <td>0.123255 </td> <td>0.895449</td> <td>-0.110431 </td> <td>-1.58045</td> <td>-1.58474 </td> <td>-0.220861      </td> <td>0.175661   </td>\n",
       "        </tr>\n",
       "        <tr>\n",
       "            <td>NBA  </td> <td>15  </td> <td>67    </td> <td>LAC    </td> <td>82  </td> <td>19705</td> <td>7546</td> <td>8491   </td> <td>1999-00</td> <td>LAC </td> <td>0.182927</td> <td>92.0244</td> <td>103.549</td> <td>-11.5244</td> <td>0.125631 </td> <td>0.888706</td> <td>-0.117989 </td> <td>-1.49664</td> <td>-1.69321 </td> <td>-0.235978      </td> <td>0.160859   </td>\n",
       "        </tr>\n",
       "        <tr>\n",
       "            <td>NBA  </td> <td>12  </td> <td>70    </td> <td>LAC    </td> <td>82  </td> <td>19780</td> <td>8566</td> <td>9503   </td> <td>1986-87</td> <td>LAC </td> <td>0.146341</td> <td>104.463</td> <td>115.89 </td> <td>-11.4268</td> <td>0.1288   </td> <td>0.9014  </td> <td>-0.103807 </td> <td>-1.76359</td> <td>-1.48969 </td> <td>-0.207613      </td> <td>0.189495   </td>\n",
       "        </tr>\n",
       "        <tr>\n",
       "            <td>NBA  </td> <td>15  </td> <td>67    </td> <td>MIA    </td> <td>82  </td> <td>19855</td> <td>8016</td> <td>8937   </td> <td>1988-89</td> <td>MIA </td> <td>0.182927</td> <td>97.7561</td> <td>108.988</td> <td>-11.2317</td> <td>0.135137 </td> <td>0.896945</td> <td>-0.10876  </td> <td>-1.49664</td> <td>-1.56077 </td> <td>-0.217521      </td> <td>0.179072   </td>\n",
       "        </tr>\n",
       "        <tr>\n",
       "            <td>NBA  </td> <td>20  </td> <td>62    </td> <td>DEN    </td> <td>82  </td> <td>19730</td> <td>9828</td> <td>10723  </td> <td>1990-91</td> <td>DEN </td> <td>0.243902</td> <td>119.854</td> <td>130.768</td> <td>-10.9146</td> <td>0.145436 </td> <td>0.916535</td> <td>-0.0871555</td> <td>-1.1314 </td> <td>-1.25073 </td> <td>-0.174311      </td> <td>0.227905   </td>\n",
       "        </tr>\n",
       "        <tr>\n",
       "            <td>NBA  </td> <td>19  </td> <td>63    </td> <td>PHI    </td> <td>82  </td> <td>19855</td> <td>8155</td> <td>9012   </td> <td>2013-14</td> <td>PHI </td> <td>0.231707</td> <td>99.4512</td> <td>109.902</td> <td>-10.4512</td> <td>0.160487 </td> <td>0.904905</td> <td>-0.0999258</td> <td>-1.1987 </td> <td>-1.43399 </td> <td>-0.199852      </td> <td>0.197981   </td>\n",
       "        </tr>\n",
       "        <tr>\n",
       "            <td>NBA  </td> <td>17  </td> <td>65    </td> <td>LAC    </td> <td>82  </td> <td>19805</td> <td>8103</td> <td>8949   </td> <td>1987-88</td> <td>LAC </td> <td>0.207317</td> <td>98.8171</td> <td>109.134</td> <td>-10.3171</td> <td>0.164845 </td> <td>0.905464</td> <td>-0.0993074</td> <td>-1.34117</td> <td>-1.42512 </td> <td>-0.198615      </td> <td>0.199359   </td>\n",
       "        </tr>\n",
       "    </tbody>\n",
       "</table>\n",
       "<p>... (1165 rows omitted)</p>"
      ],
      "text/plain": [
       "lg_id | wins | losses | team_id | g    | mp    | pts  | opp_pts | year    | team | Wpct     | ppg     | opp_ppg | net_ppg  | LinWpct   | PR       | log_PR     | log_odds | xlog_odds | pythag_log_odds | pythag_Wpct\n",
       "NBA   | 11   | 71     | DAL     | 82   | 19730 | 8141 | 9387    | 1992-93 | DAL  | 0.134146 | 99.2805 | 114.476 | -15.1951 | 0.0064069 | 0.867263 | -0.142413  | -1.86478 | -2.0437   | -0.284825       | 0.119858\n",
       "NBA   | 7    | 59     | CHA     | 66   | 15890 | 5739 | 6657    | 2011-12 | CHA  | 0.106061 | 86.9545 | 100.864 | -13.9091 | 0.0481768 | 0.8621   | -0.148384  | -2.13163 | -2.1294   | -0.296768       | 0.111315\n",
       "NBA   | 11   | 71     | DEN     | 82   | 19730 | 7300 | 8266    | 1997-98 | DEN  | 0.134146 | 89.0244 | 100.805 | -11.7805 | 0.117313  | 0.883136 | -0.124276  | -1.86478 | -1.78344  | -0.248553       | 0.14933\n",
       "NBA   | 14   | 68     | HOU     | 82   | 19730 | 8145 | 9096    | 1982-83 | HOU  | 0.170732 | 99.3293 | 110.927 | -11.5976 | 0.123255  | 0.895449 | -0.110431  | -1.58045 | -1.58474  | -0.220861       | 0.175661\n",
       "NBA   | 15   | 67     | LAC     | 82   | 19705 | 7546 | 8491    | 1999-00 | LAC  | 0.182927 | 92.0244 | 103.549 | -11.5244 | 0.125631  | 0.888706 | -0.117989  | -1.49664 | -1.69321  | -0.235978       | 0.160859\n",
       "NBA   | 12   | 70     | LAC     | 82   | 19780 | 8566 | 9503    | 1986-87 | LAC  | 0.146341 | 104.463 | 115.89  | -11.4268 | 0.1288    | 0.9014   | -0.103807  | -1.76359 | -1.48969  | -0.207613       | 0.189495\n",
       "NBA   | 15   | 67     | MIA     | 82   | 19855 | 8016 | 8937    | 1988-89 | MIA  | 0.182927 | 97.7561 | 108.988 | -11.2317 | 0.135137  | 0.896945 | -0.10876   | -1.49664 | -1.56077  | -0.217521       | 0.179072\n",
       "NBA   | 20   | 62     | DEN     | 82   | 19730 | 9828 | 10723   | 1990-91 | DEN  | 0.243902 | 119.854 | 130.768 | -10.9146 | 0.145436  | 0.916535 | -0.0871555 | -1.1314  | -1.25073  | -0.174311       | 0.227905\n",
       "NBA   | 19   | 63     | PHI     | 82   | 19855 | 8155 | 9012    | 2013-14 | PHI  | 0.231707 | 99.4512 | 109.902 | -10.4512 | 0.160487  | 0.904905 | -0.0999258 | -1.1987  | -1.43399  | -0.199852       | 0.197981\n",
       "NBA   | 17   | 65     | LAC     | 82   | 19805 | 8103 | 8949    | 1987-88 | LAC  | 0.207317 | 98.8171 | 109.134 | -10.3171 | 0.164845  | 0.905464 | -0.0993074 | -1.34117 | -1.42512  | -0.198615       | 0.199359\n",
       "... (1165 rows omitted)"
      ]
     },
     "execution_count": 104,
     "metadata": {},
     "output_type": "execute_result"
    }
   ],
   "source": [
    "nba['pythag_Wpct'] = nba['PR']**14 / (1 + nba['PR']**14)\n",
    "nba.sort('net_ppg')"
   ]
  },
  {
   "cell_type": "markdown",
   "metadata": {},
   "source": [
    "### 7. Compute Pythagorean Luck\n",
    "\n",
    "Again, use the columns `team_id, wins, losses, ppg, opp_ppg, net_ppg`\n",
    "\n",
    "+ Display a table of the top 10 \"luckiest\" teams.\n",
    "+ Display a table of the top 10 \"unluckiest\" teams."
   ]
  },
  {
   "cell_type": "code",
   "execution_count": 105,
   "metadata": {},
   "outputs": [
    {
     "data": {
      "text/html": [
       "<table border=\"1\" class=\"dataframe\">\n",
       "    <thead>\n",
       "        <tr>\n",
       "            <th>lg_id</th> <th>wins</th> <th>losses</th> <th>team_id</th> <th>g</th> <th>mp</th> <th>pts</th> <th>opp_pts</th> <th>year</th> <th>team</th> <th>Wpct</th> <th>ppg</th> <th>opp_ppg</th> <th>net_ppg</th> <th>LinWpct</th> <th>PR</th> <th>log_PR</th> <th>log_odds</th> <th>xlog_odds</th> <th>pythag_log_odds</th> <th>pythag_Wpct</th> <th>pythag_luck</th>\n",
       "        </tr>\n",
       "    </thead>\n",
       "    <tbody>\n",
       "        <tr>\n",
       "            <td>NBA  </td> <td>35  </td> <td>47    </td> <td>ATL    </td> <td>82  </td> <td>19755</td> <td>8907</td> <td>9024   </td> <td>1973-74</td> <td>ATL </td> <td>0.426829</td> <td>108.622</td> <td>110.049</td> <td>-1.42683 </td> <td>0.453597</td> <td>0.987035</td> <td>-0.0130502 </td> <td>-0.2948  </td> <td>-0.187278 </td> <td>-0.0261004     </td> <td>0.454451   </td> <td>-2         </td>\n",
       "        </tr>\n",
       "        <tr>\n",
       "            <td>NBA  </td> <td>36  </td> <td>46    </td> <td>SEA    </td> <td>82  </td> <td>19755</td> <td>8774</td> <td>8983   </td> <td>1973-74</td> <td>OKC </td> <td>0.439024</td> <td>107    </td> <td>109.549</td> <td>-2.54878 </td> <td>0.417156</td> <td>0.976734</td> <td>-0.0235411 </td> <td>-0.245122</td> <td>-0.337828 </td> <td>-0.0470822     </td> <td>0.418344   </td> <td>2          </td>\n",
       "        </tr>\n",
       "        <tr>\n",
       "            <td>NBA  </td> <td>47  </td> <td>35    </td> <td>CAP    </td> <td>82  </td> <td>19730</td> <td>8353</td> <td>8231   </td> <td>1973-74</td> <td>WAS </td> <td>0.573171</td> <td>101.866</td> <td>100.378</td> <td>1.4878   </td> <td>0.548264</td> <td>1.01482 </td> <td>0.0147132  </td> <td>0.2948   </td> <td>0.211144  </td> <td>0.0294265      </td> <td>0.551315   </td> <td>2          </td>\n",
       "        </tr>\n",
       "        <tr>\n",
       "            <td>NBA  </td> <td>54  </td> <td>28    </td> <td>CHI    </td> <td>82  </td> <td>19780</td> <td>8368</td> <td>8097   </td> <td>1973-74</td> <td>CHI </td> <td>0.658537</td> <td>102.049</td> <td>98.7439</td> <td>3.30488  </td> <td>0.607282</td> <td>1.03347 </td> <td>0.0329213  </td> <td>0.65678  </td> <td>0.472439  </td> <td>0.0658426      </td> <td>0.613227   </td> <td>4          </td>\n",
       "        </tr>\n",
       "        <tr>\n",
       "            <td>NBA  </td> <td>49  </td> <td>33    </td> <td>NYK    </td> <td>82  </td> <td>19780</td> <td>8306</td> <td>8080   </td> <td>1973-74</td> <td>NYK </td> <td>0.597561</td> <td>101.293</td> <td>98.5366</td> <td>2.7561   </td> <td>0.589457</td> <td>1.02797 </td> <td>0.0275863  </td> <td>0.395313 </td> <td>0.395879  </td> <td>0.0551725      </td> <td>0.595369   </td> <td>0          </td>\n",
       "        </tr>\n",
       "        <tr>\n",
       "            <td>NBA  </td> <td>29  </td> <td>53    </td> <td>CLE    </td> <td>82  </td> <td>19755</td> <td>8221</td> <td>8576   </td> <td>1973-74</td> <td>CLE </td> <td>0.353659</td> <td>100.256</td> <td>104.585</td> <td>-4.32927 </td> <td>0.359327</td> <td>0.958605</td> <td>-0.0422757 </td> <td>-0.602996</td> <td>-0.606681 </td> <td>-0.0845515     </td> <td>0.356208   </td> <td>-0         </td>\n",
       "        </tr>\n",
       "        <tr>\n",
       "            <td>NBA  </td> <td>56  </td> <td>26    </td> <td>BOS    </td> <td>82  </td> <td>19780</td> <td>8937</td> <td>8616   </td> <td>1973-74</td> <td>BOS </td> <td>0.682927</td> <td>108.988</td> <td>105.073</td> <td>3.91463  </td> <td>0.627086</td> <td>1.03726 </td> <td>0.036579   </td> <td>0.767255 </td> <td>0.52493   </td> <td>0.073158       </td> <td>0.6253     </td> <td>5          </td>\n",
       "        </tr>\n",
       "        <tr>\n",
       "            <td>NBA  </td> <td>30  </td> <td>52    </td> <td>PHO    </td> <td>82  </td> <td>19755</td> <td>8847</td> <td>9139   </td> <td>1973-74</td> <td>PHO </td> <td>0.365854</td> <td>107.89 </td> <td>111.451</td> <td>-3.56098 </td> <td>0.384281</td> <td>0.968049</td> <td>-0.0324726 </td> <td>-0.550046</td> <td>-0.466    </td> <td>-0.0649451     </td> <td>0.388264   </td> <td>-2         </td>\n",
       "        </tr>\n",
       "        <tr>\n",
       "            <td>ABA  </td> <td>37  </td> <td>47    </td> <td>DNR    </td> <td>84  </td> <td>20285</td> <td>8989</td> <td>9032   </td> <td>1973-74</td> <td>DEN </td> <td>0.440476</td> <td>107.012</td> <td>107.524</td> <td>-0.511905</td> <td>0.483314</td> <td>0.995239</td> <td>-0.00477222</td> <td>-0.23923 </td> <td>-0.0684841</td> <td>-0.00954444    </td> <td>0.483303   </td> <td>-4         </td>\n",
       "        </tr>\n",
       "        <tr>\n",
       "            <td>ABA  </td> <td>55  </td> <td>29    </td> <td>NYA    </td> <td>84  </td> <td>20285</td> <td>9188</td> <td>8739   </td> <td>1973-74</td> <td>NJN </td> <td>0.654762</td> <td>109.381</td> <td>104.036</td> <td>5.34524  </td> <td>0.673552</td> <td>1.05138 </td> <td>0.0501025  </td> <td>0.640037 </td> <td>0.719     </td> <td>0.100205       </td> <td>0.668506   </td> <td>-1         </td>\n",
       "        </tr>\n",
       "    </tbody>\n",
       "</table>\n",
       "<p>... (1165 rows omitted)</p>"
      ],
      "text/plain": [
       "lg_id | wins | losses | team_id | g    | mp    | pts  | opp_pts | year    | team | Wpct     | ppg     | opp_ppg | net_ppg   | LinWpct  | PR       | log_PR      | log_odds  | xlog_odds  | pythag_log_odds | pythag_Wpct | pythag_luck\n",
       "NBA   | 35   | 47     | ATL     | 82   | 19755 | 8907 | 9024    | 1973-74 | ATL  | 0.426829 | 108.622 | 110.049 | -1.42683  | 0.453597 | 0.987035 | -0.0130502  | -0.2948   | -0.187278  | -0.0261004      | 0.454451    | -2\n",
       "NBA   | 36   | 46     | SEA     | 82   | 19755 | 8774 | 8983    | 1973-74 | OKC  | 0.439024 | 107     | 109.549 | -2.54878  | 0.417156 | 0.976734 | -0.0235411  | -0.245122 | -0.337828  | -0.0470822      | 0.418344    | 2\n",
       "NBA   | 47   | 35     | CAP     | 82   | 19730 | 8353 | 8231    | 1973-74 | WAS  | 0.573171 | 101.866 | 100.378 | 1.4878    | 0.548264 | 1.01482  | 0.0147132   | 0.2948    | 0.211144   | 0.0294265       | 0.551315    | 2\n",
       "NBA   | 54   | 28     | CHI     | 82   | 19780 | 8368 | 8097    | 1973-74 | CHI  | 0.658537 | 102.049 | 98.7439 | 3.30488   | 0.607282 | 1.03347  | 0.0329213   | 0.65678   | 0.472439   | 0.0658426       | 0.613227    | 4\n",
       "NBA   | 49   | 33     | NYK     | 82   | 19780 | 8306 | 8080    | 1973-74 | NYK  | 0.597561 | 101.293 | 98.5366 | 2.7561    | 0.589457 | 1.02797  | 0.0275863   | 0.395313  | 0.395879   | 0.0551725       | 0.595369    | 0\n",
       "NBA   | 29   | 53     | CLE     | 82   | 19755 | 8221 | 8576    | 1973-74 | CLE  | 0.353659 | 100.256 | 104.585 | -4.32927  | 0.359327 | 0.958605 | -0.0422757  | -0.602996 | -0.606681  | -0.0845515      | 0.356208    | -0\n",
       "NBA   | 56   | 26     | BOS     | 82   | 19780 | 8937 | 8616    | 1973-74 | BOS  | 0.682927 | 108.988 | 105.073 | 3.91463   | 0.627086 | 1.03726  | 0.036579    | 0.767255  | 0.52493    | 0.073158        | 0.6253      | 5\n",
       "NBA   | 30   | 52     | PHO     | 82   | 19755 | 8847 | 9139    | 1973-74 | PHO  | 0.365854 | 107.89  | 111.451 | -3.56098  | 0.384281 | 0.968049 | -0.0324726  | -0.550046 | -0.466     | -0.0649451      | 0.388264    | -2\n",
       "ABA   | 37   | 47     | DNR     | 84   | 20285 | 8989 | 9032    | 1973-74 | DEN  | 0.440476 | 107.012 | 107.524 | -0.511905 | 0.483314 | 0.995239 | -0.00477222 | -0.23923  | -0.0684841 | -0.00954444     | 0.483303    | -4\n",
       "ABA   | 55   | 29     | NYA     | 84   | 20285 | 9188 | 8739    | 1973-74 | NJN  | 0.654762 | 109.381 | 104.036 | 5.34524   | 0.673552 | 1.05138  | 0.0501025   | 0.640037  | 0.719      | 0.100205        | 0.668506    | -1\n",
       "... (1165 rows omitted)"
      ]
     },
     "execution_count": 105,
     "metadata": {},
     "output_type": "execute_result"
    }
   ],
   "source": [
    "nba['pythag_luck'] = (nba['g'] * (nba['Wpct'] - nba['pythag_Wpct'])).round()\n",
    "nba"
   ]
  },
  {
   "cell_type": "code",
   "execution_count": 106,
   "metadata": {},
   "outputs": [
    {
     "data": {
      "text/html": [
       "<table border=\"1\" class=\"dataframe\">\n",
       "    <thead>\n",
       "        <tr>\n",
       "            <th>team_id</th> <th>wins</th> <th>losses</th> <th>ppg</th> <th>opp_ppg</th> <th>net_ppg</th>\n",
       "        </tr>\n",
       "    </thead>\n",
       "    <tbody>\n",
       "        <tr>\n",
       "            <td>SEA    </td> <td>31  </td> <td>51    </td> <td>104.439</td> <td>104.537</td> <td>-0.097561</td>\n",
       "        </tr>\n",
       "        <tr>\n",
       "            <td>HOU    </td> <td>32  </td> <td>50    </td> <td>107.439</td> <td>107.573</td> <td>-0.134146</td>\n",
       "        </tr>\n",
       "        <tr>\n",
       "            <td>CHI    </td> <td>24  </td> <td>58    </td> <td>95.8902</td> <td>98.7927</td> <td>-2.90244 </td>\n",
       "        </tr>\n",
       "        <tr>\n",
       "            <td>PHO    </td> <td>34  </td> <td>48    </td> <td>104.915</td> <td>104.183</td> <td>0.731707 </td>\n",
       "        </tr>\n",
       "        <tr>\n",
       "            <td>MIL    </td> <td>38  </td> <td>44    </td> <td>114.061</td> <td>111.841</td> <td>2.21951  </td>\n",
       "        </tr>\n",
       "        <tr>\n",
       "            <td>DET    </td> <td>37  </td> <td>45    </td> <td>94.1585</td> <td>92.5854</td> <td>1.57317  </td>\n",
       "        </tr>\n",
       "        <tr>\n",
       "            <td>MIN    </td> <td>15  </td> <td>67    </td> <td>100.451</td> <td>107.5  </td> <td>-7.04878 </td>\n",
       "        </tr>\n",
       "        <tr>\n",
       "            <td>SAC    </td> <td>25  </td> <td>57    </td> <td>107.89 </td> <td>111.061</td> <td>-3.17073 </td>\n",
       "        </tr>\n",
       "        <tr>\n",
       "            <td>POR    </td> <td>44  </td> <td>38    </td> <td>103.061</td> <td>99.2439</td> <td>3.81707  </td>\n",
       "        </tr>\n",
       "        <tr>\n",
       "            <td>TOR    </td> <td>41  </td> <td>41    </td> <td>100.183</td> <td>97.2805</td> <td>2.90244  </td>\n",
       "        </tr>\n",
       "    </tbody>\n",
       "</table>\n",
       "<p>... (1165 rows omitted)</p>"
      ],
      "text/plain": [
       "<IPython.core.display.HTML object>"
      ]
     },
     "metadata": {},
     "output_type": "display_data"
    }
   ],
   "source": [
    "nba.sort('pythag_luck').select('team_id', 'wins', 'losses', 'ppg', 'opp_ppg', 'net_ppg').show(10)"
   ]
  },
  {
   "cell_type": "code",
   "execution_count": 107,
   "metadata": {},
   "outputs": [
    {
     "data": {
      "text/html": [
       "<table border=\"1\" class=\"dataframe\">\n",
       "    <thead>\n",
       "        <tr>\n",
       "            <th>team_id</th> <th>wins</th> <th>losses</th> <th>ppg</th> <th>opp_ppg</th> <th>net_ppg</th>\n",
       "        </tr>\n",
       "    </thead>\n",
       "    <tbody>\n",
       "        <tr>\n",
       "            <td>GSW    </td> <td>73  </td> <td>9     </td> <td>114.89 </td> <td>104.134</td> <td>10.7561  </td>\n",
       "        </tr>\n",
       "        <tr>\n",
       "            <td>UTA    </td> <td>41  </td> <td>41    </td> <td>92.3537</td> <td>94.9878</td> <td>-2.63415 </td>\n",
       "        </tr>\n",
       "        <tr>\n",
       "            <td>CHH    </td> <td>54  </td> <td>28    </td> <td>98.878 </td> <td>97.0122</td> <td>1.86585  </td>\n",
       "        </tr>\n",
       "        <tr>\n",
       "            <td>PHO    </td> <td>59  </td> <td>23    </td> <td>110.646</td> <td>106.768</td> <td>3.87805  </td>\n",
       "        </tr>\n",
       "        <tr>\n",
       "            <td>LAL    </td> <td>48  </td> <td>34    </td> <td>105.073</td> <td>105.293</td> <td>-0.219512</td>\n",
       "        </tr>\n",
       "        <tr>\n",
       "            <td>MIA    </td> <td>38  </td> <td>44    </td> <td>104.976</td> <td>109.183</td> <td>-4.20732 </td>\n",
       "        </tr>\n",
       "        <tr>\n",
       "            <td>LAC    </td> <td>32  </td> <td>50    </td> <td>108.622</td> <td>115.549</td> <td>-6.92683 </td>\n",
       "        </tr>\n",
       "        <tr>\n",
       "            <td>BOS    </td> <td>44  </td> <td>38    </td> <td>104.537</td> <td>106.512</td> <td>-1.97561 </td>\n",
       "        </tr>\n",
       "        <tr>\n",
       "            <td>MEM    </td> <td>42  </td> <td>40    </td> <td>99.0976</td> <td>101.341</td> <td>-2.2439  </td>\n",
       "        </tr>\n",
       "        <tr>\n",
       "            <td>NJN    </td> <td>34  </td> <td>48    </td> <td>95.8171</td> <td>100.878</td> <td>-5.06098 </td>\n",
       "        </tr>\n",
       "    </tbody>\n",
       "</table>\n",
       "<p>... (1165 rows omitted)</p>"
      ],
      "text/plain": [
       "<IPython.core.display.HTML object>"
      ]
     },
     "metadata": {},
     "output_type": "display_data"
    }
   ],
   "source": [
    "nba.sort('pythag_luck', descending=True).select('team_id', 'wins', 'losses', 'ppg', 'opp_ppg', 'net_ppg').show(10)"
   ]
  },
  {
   "cell_type": "markdown",
   "metadata": {},
   "source": [
    "### 8. Compute a table of Points-to-Wins values\n",
    "\n",
    "+ A function with the Points per Win formula has been provided\n",
    "+ A range of point-per-game values for PPG and Opponent PPG has been provided\n",
    "+ Compute the Points per Win for various PPG values\n",
    "\n",
    "You should see values around 30 points, or .3 PPG, per Win.  Interpret this as follows: if you increase your scoring by 1 PPG, you should expect about a 3 win improvement.  Teams like the 96 Bulls or recent Warriors with a Net PPG of 10 see close to 30 game increases above .500, ie high 60s wins compared to 41 wins."
   ]
  },
  {
   "cell_type": "code",
   "execution_count": 110,
   "metadata": {},
   "outputs": [],
   "source": [
    "def pts_per_win(ppg, opp_ppg, K):\n",
    "    PR = ppg / opp_ppg\n",
    "    pyth = PR**K / (PR**K + 1)\n",
    "    return opp_ppg * PR**(K + 1) / (K * pyth**2)\n",
    "\n",
    "ppg_rng = np.arange(85, 130, 5)"
   ]
  },
  {
   "cell_type": "code",
   "execution_count": 113,
   "metadata": {},
   "outputs": [
    {
     "data": {
      "text/html": [
       "<table border=\"1\" class=\"dataframe\">\n",
       "    <thead>\n",
       "        <tr>\n",
       "            <th>opp_ppg</th> <th>P: 85</th> <th>P: 90</th> <th>P: 95</th> <th>P: 100</th> <th>P: 105</th> <th>P: 110</th> <th>P: 115</th> <th>P: 120</th> <th>P: 125</th>\n",
       "        </tr>\n",
       "    </thead>\n",
       "    <tbody>\n",
       "        <tr>\n",
       "            <td>85     </td> <td>24.2857</td> <td>30.0552</td> <td>47.2018</td> <td>84.5233</td> <td>159.882</td> <td>306.261</td> <td>582.103</td> <td>1088.05</td> <td>1993.31</td>\n",
       "        </tr>\n",
       "        <tr>\n",
       "            <td>90     </td> <td>28.3855</td> <td>25.7143</td> <td>31.22  </td> <td>47.1429</td> <td>80.7773</td> <td>146.614</td> <td>270.759</td> <td>498.351</td> <td>905.363</td>\n",
       "        </tr>\n",
       "        <tr>\n",
       "            <td>95     </td> <td>42.2332</td> <td>29.5769</td> <td>27.1429</td> <td>32.4159</td> <td>47.2969</td> <td>77.9064</td> <td>136.176</td> <td>243.131</td> <td>434.335</td>\n",
       "        </tr>\n",
       "        <tr>\n",
       "            <td>100    </td> <td>71.8448</td> <td>42.4286</td> <td>30.7951</td> <td>28.5714</td> <td>33.6375</td> <td>47.6208</td> <td>75.7114</td> <td>127.861</td> <td>221.262</td>\n",
       "        </tr>\n",
       "        <tr>\n",
       "            <td>105    </td> <td>129.428</td> <td>69.2377</td> <td>42.7924</td> <td>32.0357</td> <td>30     </td> <td>34.8808</td> <td>48.0826</td> <td>74.0475</td> <td>121.17 </td>\n",
       "        </tr>\n",
       "        <tr>\n",
       "            <td>110    </td> <td>236.656</td> <td>119.957</td> <td>67.2828</td> <td>43.2916</td> <td>33.2953</td> <td>31.4286</td> <td>36.1424</td> <td>48.6577</td> <td>72.8078</td>\n",
       "        </tr>\n",
       "        <tr>\n",
       "            <td>115    </td> <td>430.25 </td> <td>211.898</td> <td>112.493</td> <td>65.836 </td> <td>43.9015</td> <td>34.571 </td> <td>32.8571</td> <td>37.4198</td> <td>49.3271</td>\n",
       "        </tr>\n",
       "        <tr>\n",
       "            <td>120    </td> <td>770.705</td> <td>373.764</td> <td>192.479</td> <td>106.551</td> <td>64.7915</td> <td>44.6029</td> <td>35.8607</td> <td>34.2857</td> <td>38.7108</td>\n",
       "        </tr>\n",
       "        <tr>\n",
       "            <td>125    </td> <td>1355.45</td> <td>651.861</td> <td>330.094</td> <td>177.01 </td> <td>101.782</td> <td>64.0709</td> <td>45.3809</td> <td>37.1624</td> <td>35.7143</td>\n",
       "        </tr>\n",
       "    </tbody>\n",
       "</table>"
      ],
      "text/plain": [
       "opp_ppg | P: 85   | P: 90   | P: 95   | P: 100  | P: 105  | P: 110  | P: 115  | P: 120  | P: 125\n",
       "85      | 24.2857 | 30.0552 | 47.2018 | 84.5233 | 159.882 | 306.261 | 582.103 | 1088.05 | 1993.31\n",
       "90      | 28.3855 | 25.7143 | 31.22   | 47.1429 | 80.7773 | 146.614 | 270.759 | 498.351 | 905.363\n",
       "95      | 42.2332 | 29.5769 | 27.1429 | 32.4159 | 47.2969 | 77.9064 | 136.176 | 243.131 | 434.335\n",
       "100     | 71.8448 | 42.4286 | 30.7951 | 28.5714 | 33.6375 | 47.6208 | 75.7114 | 127.861 | 221.262\n",
       "105     | 129.428 | 69.2377 | 42.7924 | 32.0357 | 30      | 34.8808 | 48.0826 | 74.0475 | 121.17\n",
       "110     | 236.656 | 119.957 | 67.2828 | 43.2916 | 33.2953 | 31.4286 | 36.1424 | 48.6577 | 72.8078\n",
       "115     | 430.25  | 211.898 | 112.493 | 65.836  | 43.9015 | 34.571  | 32.8571 | 37.4198 | 49.3271\n",
       "120     | 770.705 | 373.764 | 192.479 | 106.551 | 64.7915 | 44.6029 | 35.8607 | 34.2857 | 38.7108\n",
       "125     | 1355.45 | 651.861 | 330.094 | 177.01  | 101.782 | 64.0709 | 45.3809 | 37.1624 | 35.7143"
      ]
     },
     "execution_count": 113,
     "metadata": {},
     "output_type": "execute_result"
    }
   ],
   "source": [
    "table_data = ['opp_ppg', ppg_rng]\n",
    "for p in ppg_rng:\n",
    "    col = 'P: ' + str(p)\n",
    "    data = []\n",
    "    for pt in ppg_rng:\n",
    "        data.append(pts_per_win(ppg=p, opp_ppg=pt, K=14))\n",
    "    \n",
    "    table_data.extend([col, data])\n",
    "\n",
    "t = Table()\n",
    "t = t.with_columns(table_data)\n",
    "t"
   ]
  },
  {
   "cell_type": "markdown",
   "metadata": {},
   "source": [
    "_Question_\n",
    "\n",
    "\n",
    "Say a team has a star player who averages 20-30 points per game.  The team loses this player for 10 games in the middle of the season.  Use the Net PPG-to-Wins conversions above and give a \"back-of-the-envelope\" estimate (with a bit of explanation your thinking) of how many extra games we should expect a team without the star to lose.  Consider this when answering:  Do you lose all 20-30 points the player provides or is it replaced in some way?  Is it replaced to the full extent?\n",
    "\n",
    "_Answer_\n",
    "\n",
    "If you lose your best player, you lose more games if you play opponents who score more. If you are scoring 105, and lose your best player, you will score 95, which means you'll win 2 less games against a 100 pt scoring team. However, if you score 105 (and lost your best player and score 95), you will win about 11 less games. You don't lose all 20-30 points that losing the best player brings, maybe someone else who doens't usually play is called to play, or other players who do usually play just play harder. "
   ]
  },
  {
   "cell_type": "code",
   "execution_count": null,
   "metadata": {},
   "outputs": [],
   "source": []
  }
 ],
 "metadata": {
  "hide_input": false,
  "kernelspec": {
   "display_name": "Python 3",
   "language": "python",
   "name": "python3"
  },
  "language_info": {
   "codemirror_mode": {
    "name": "ipython",
    "version": 3
   },
   "file_extension": ".py",
   "mimetype": "text/x-python",
   "name": "python",
   "nbconvert_exporter": "python",
   "pygments_lexer": "ipython3",
   "version": "3.6.7"
  },
  "toc": {
   "nav_menu": {},
   "number_sections": true,
   "sideBar": true,
   "skip_h1_title": true,
   "title_cell": "Table of Contents",
   "title_sidebar": "Contents",
   "toc_cell": true,
   "toc_position": {},
   "toc_section_display": true,
   "toc_window_display": false
  },
  "varInspector": {
   "cols": {
    "lenName": 16,
    "lenType": 16,
    "lenVar": 40
   },
   "kernels_config": {
    "python": {
     "delete_cmd_postfix": "",
     "delete_cmd_prefix": "del ",
     "library": "var_list.py",
     "varRefreshCmd": "print(var_dic_list())"
    },
    "r": {
     "delete_cmd_postfix": ") ",
     "delete_cmd_prefix": "rm(",
     "library": "var_list.r",
     "varRefreshCmd": "cat(var_dic_list()) "
    }
   },
   "types_to_exclude": [
    "module",
    "function",
    "builtin_function_or_method",
    "instance",
    "_Feature"
   ],
   "window_display": false
  }
 },
 "nbformat": 4,
 "nbformat_minor": 2
}
